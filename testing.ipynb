{
 "cells": [
  {
   "cell_type": "markdown",
   "metadata": {},
   "source": [
    "## Ticket Generator"
   ]
  },
  {
   "cell_type": "code",
   "execution_count": 1,
   "metadata": {},
   "outputs": [],
   "source": [
    "# ticket_generator_test.py\n",
    "from src.ticket_generator import generate_ticket\n",
    "\n",
    "def test_ticket_generator():\n",
    "    ticket = generate_ticket()\n",
    "    assert 'shop_name' in ticket\n",
    "    assert 'checkout_id' in ticket\n",
    "    assert 'cashier_id' in ticket\n",
    "    assert 'products' in ticket\n",
    "    assert isinstance(ticket['products'], list)\n",
    "    return ticket"
   ]
  },
  {
   "cell_type": "code",
   "execution_count": 2,
   "metadata": {},
   "outputs": [
    {
     "data": {
      "text/plain": [
       "{'shop_name': 'Chapman, Valdez and Fisher',\n",
       " 'checkout_id': 75,\n",
       " 'cashier_id': 10,\n",
       " 'products': [{'name': 'artist', 'price': 29, 'quantity': 1}],\n",
       " 'total_price': 73}"
      ]
     },
     "execution_count": 2,
     "metadata": {},
     "output_type": "execute_result"
    }
   ],
   "source": [
    "test_ticket_generator()"
   ]
  },
  {
   "cell_type": "markdown",
   "metadata": {},
   "source": [
    "## .."
   ]
  },
  {
   "cell_type": "code",
   "execution_count": 1,
   "metadata": {},
   "outputs": [
    {
     "name": "stdout",
     "output_type": "stream",
     "text": [
      "Defaulting to user installation because normal site-packages is not writeable\n",
      "Collecting fastapi==0.104.1 (from -r requirements.txt (line 1))\n",
      "  Obtaining dependency information for fastapi==0.104.1 from https://files.pythonhosted.org/packages/f3/4f/0ce34195b63240b6693086496c9bab4ef23999112184399a3e88854c7674/fastapi-0.104.1-py3-none-any.whl.metadata\n",
      "  Downloading fastapi-0.104.1-py3-none-any.whl.metadata (24 kB)\n",
      "Collecting uvicorn==0.24.0 (from -r requirements.txt (line 2))\n",
      "  Obtaining dependency information for uvicorn==0.24.0 from https://files.pythonhosted.org/packages/ed/0c/a9b90a856bbdd75bf71a1dd191af1e9c9ac8a272ed337f7200950c3d3dd4/uvicorn-0.24.0-py3-none-any.whl.metadata\n",
      "  Downloading uvicorn-0.24.0-py3-none-any.whl.metadata (6.4 kB)\n",
      "Collecting kafka==1.3.5 (from -r requirements.txt (line 3))\n",
      "  Downloading kafka-1.3.5-py2.py3-none-any.whl (207 kB)\n",
      "     ---------------------------------------- 0.0/207.2 kB ? eta -:--:--\n",
      "     ----------- --------------------------- 61.4/207.2 kB 1.6 MB/s eta 0:00:01\n",
      "     -------------------------------------- 207.2/207.2 kB 3.1 MB/s eta 0:00:00\n",
      "Collecting pymongo==4.6.1 (from -r requirements.txt (line 4))\n",
      "  Obtaining dependency information for pymongo==4.6.1 from https://files.pythonhosted.org/packages/84/a8/af969731cd8e0e0213636d8b1875009a73260bfbf294129342fe02070c68/pymongo-4.6.1-cp312-cp312-win_amd64.whl.metadata\n",
      "  Downloading pymongo-4.6.1-cp312-cp312-win_amd64.whl.metadata (22 kB)\n",
      "Collecting requests==2.31.0 (from -r requirements.txt (line 5))\n",
      "  Obtaining dependency information for requests==2.31.0 from https://files.pythonhosted.org/packages/70/8e/0e2d847013cb52cd35b38c009bb167a1a26b2ce6cd6965bf26b47bc0bf44/requests-2.31.0-py3-none-any.whl.metadata\n",
      "  Downloading requests-2.31.0-py3-none-any.whl.metadata (4.6 kB)\n",
      "Collecting faker==20.1.0 (from -r requirements.txt (line 6))\n",
      "  Obtaining dependency information for faker==20.1.0 from https://files.pythonhosted.org/packages/cc/9a/74db0cf3115df2f71edcaf8d86ed556195ac31575212c20425820f81bfd0/Faker-20.1.0-py3-none-any.whl.metadata\n",
      "  Using cached Faker-20.1.0-py3-none-any.whl.metadata (15 kB)\n",
      "Collecting pydantic==1.10.8 (from -r requirements.txt (line 7))\n",
      "  Obtaining dependency information for pydantic==1.10.8 from https://files.pythonhosted.org/packages/cc/a4/354a73bb8a06df0df0bc74b5fbf3b9510ed4900185f86a00861dcfbe60c7/pydantic-1.10.8-py3-none-any.whl.metadata\n",
      "  Downloading pydantic-1.10.8-py3-none-any.whl.metadata (146 kB)\n",
      "     ---------------------------------------- 0.0/146.4 kB ? eta -:--:--\n",
      "     ---------------------------------------- 146.4/146.4 kB ? eta 0:00:00\n",
      "Collecting anyio<4.0.0,>=3.7.1 (from fastapi==0.104.1->-r requirements.txt (line 1))\n",
      "  Obtaining dependency information for anyio<4.0.0,>=3.7.1 from https://files.pythonhosted.org/packages/19/24/44299477fe7dcc9cb58d0a57d5a7588d6af2ff403fdd2d47a246c91a3246/anyio-3.7.1-py3-none-any.whl.metadata\n",
      "  Using cached anyio-3.7.1-py3-none-any.whl.metadata (4.7 kB)\n",
      "Collecting starlette<0.28.0,>=0.27.0 (from fastapi==0.104.1->-r requirements.txt (line 1))\n",
      "  Obtaining dependency information for starlette<0.28.0,>=0.27.0 from https://files.pythonhosted.org/packages/58/f8/e2cca22387965584a409795913b774235752be4176d276714e15e1a58884/starlette-0.27.0-py3-none-any.whl.metadata\n",
      "  Using cached starlette-0.27.0-py3-none-any.whl.metadata (5.8 kB)\n",
      "Collecting typing-extensions>=4.8.0 (from fastapi==0.104.1->-r requirements.txt (line 1))\n",
      "  Obtaining dependency information for typing-extensions>=4.8.0 from https://files.pythonhosted.org/packages/b7/f4/6a90020cd2d93349b442bfcb657d0dc91eee65491600b2cb1d388bc98e6b/typing_extensions-4.9.0-py3-none-any.whl.metadata\n",
      "  Downloading typing_extensions-4.9.0-py3-none-any.whl.metadata (3.0 kB)\n",
      "Collecting click>=7.0 (from uvicorn==0.24.0->-r requirements.txt (line 2))\n",
      "  Obtaining dependency information for click>=7.0 from https://files.pythonhosted.org/packages/00/2e/d53fa4befbf2cfa713304affc7ca780ce4fc1fd8710527771b58311a3229/click-8.1.7-py3-none-any.whl.metadata\n",
      "  Downloading click-8.1.7-py3-none-any.whl.metadata (3.0 kB)\n",
      "Collecting h11>=0.8 (from uvicorn==0.24.0->-r requirements.txt (line 2))\n",
      "  Using cached h11-0.14.0-py3-none-any.whl (58 kB)\n",
      "Collecting dnspython<3.0.0,>=1.16.0 (from pymongo==4.6.1->-r requirements.txt (line 4))\n",
      "  Obtaining dependency information for dnspython<3.0.0,>=1.16.0 from https://files.pythonhosted.org/packages/f6/b4/0a9bee52c50f226a3cbfb54263d02bb421c7f2adc136520729c2c689c1e5/dnspython-2.4.2-py3-none-any.whl.metadata\n",
      "  Downloading dnspython-2.4.2-py3-none-any.whl.metadata (4.9 kB)\n",
      "Collecting charset-normalizer<4,>=2 (from requests==2.31.0->-r requirements.txt (line 5))\n",
      "  Obtaining dependency information for charset-normalizer<4,>=2 from https://files.pythonhosted.org/packages/b6/7c/8debebb4f90174074b827c63242c23851bdf00a532489fba57fef3416e40/charset_normalizer-3.3.2-cp312-cp312-win_amd64.whl.metadata\n",
      "  Downloading charset_normalizer-3.3.2-cp312-cp312-win_amd64.whl.metadata (34 kB)\n",
      "Collecting idna<4,>=2.5 (from requests==2.31.0->-r requirements.txt (line 5))\n",
      "  Obtaining dependency information for idna<4,>=2.5 from https://files.pythonhosted.org/packages/c2/e7/a82b05cf63a603df6e68d59ae6a68bf5064484a0718ea5033660af4b54a9/idna-3.6-py3-none-any.whl.metadata\n",
      "  Downloading idna-3.6-py3-none-any.whl.metadata (9.9 kB)\n",
      "Collecting urllib3<3,>=1.21.1 (from requests==2.31.0->-r requirements.txt (line 5))\n",
      "  Obtaining dependency information for urllib3<3,>=1.21.1 from https://files.pythonhosted.org/packages/96/94/c31f58c7a7f470d5665935262ebd7455c7e4c7782eb525658d3dbf4b9403/urllib3-2.1.0-py3-none-any.whl.metadata\n",
      "  Downloading urllib3-2.1.0-py3-none-any.whl.metadata (6.4 kB)\n",
      "Collecting certifi>=2017.4.17 (from requests==2.31.0->-r requirements.txt (line 5))\n",
      "  Obtaining dependency information for certifi>=2017.4.17 from https://files.pythonhosted.org/packages/64/62/428ef076be88fa93716b576e4a01f919d25968913e817077a386fcbe4f42/certifi-2023.11.17-py3-none-any.whl.metadata\n",
      "  Downloading certifi-2023.11.17-py3-none-any.whl.metadata (2.2 kB)\n",
      "Requirement already satisfied: python-dateutil>=2.4 in c:\\users\\ximvi\\appdata\\local\\packages\\pythonsoftwarefoundation.python.3.12_qbz5n2kfra8p0\\localcache\\local-packages\\python312\\site-packages (from faker==20.1.0->-r requirements.txt (line 6)) (2.8.2)\n",
      "Collecting sniffio>=1.1 (from anyio<4.0.0,>=3.7.1->fastapi==0.104.1->-r requirements.txt (line 1))\n",
      "  Downloading sniffio-1.3.0-py3-none-any.whl (10 kB)\n",
      "Requirement already satisfied: colorama in c:\\users\\ximvi\\appdata\\local\\packages\\pythonsoftwarefoundation.python.3.12_qbz5n2kfra8p0\\localcache\\local-packages\\python312\\site-packages (from click>=7.0->uvicorn==0.24.0->-r requirements.txt (line 2)) (0.4.6)\n",
      "Requirement already satisfied: six>=1.5 in c:\\users\\ximvi\\appdata\\local\\packages\\pythonsoftwarefoundation.python.3.12_qbz5n2kfra8p0\\localcache\\local-packages\\python312\\site-packages (from python-dateutil>=2.4->faker==20.1.0->-r requirements.txt (line 6)) (1.16.0)\n",
      "Downloading fastapi-0.104.1-py3-none-any.whl (92 kB)\n",
      "   ---------------------------------------- 0.0/92.9 kB ? eta -:--:--\n",
      "   ---------------------------------------- 92.9/92.9 kB ? eta 0:00:00\n",
      "Downloading uvicorn-0.24.0-py3-none-any.whl (59 kB)\n",
      "   ---------------------------------------- 0.0/59.6 kB ? eta -:--:--\n",
      "   ---------------------------------------- 59.6/59.6 kB ? eta 0:00:00\n",
      "Downloading pymongo-4.6.1-cp312-cp312-win_amd64.whl (472 kB)\n",
      "   ---------------------------------------- 0.0/472.8 kB ? eta -:--:--\n",
      "   --------------------------------------- 472.8/472.8 kB 28.9 MB/s eta 0:00:00\n",
      "Downloading requests-2.31.0-py3-none-any.whl (62 kB)\n",
      "   ---------------------------------------- 0.0/62.6 kB ? eta -:--:--\n",
      "   ---------------------------------------- 62.6/62.6 kB ? eta 0:00:00\n",
      "Using cached Faker-20.1.0-py3-none-any.whl (1.7 MB)\n",
      "Downloading pydantic-1.10.8-py3-none-any.whl (157 kB)\n",
      "   ---------------------------------------- 0.0/157.5 kB ? eta -:--:--\n",
      "   ---------------------------------------- 157.5/157.5 kB 9.2 MB/s eta 0:00:00\n",
      "Using cached anyio-3.7.1-py3-none-any.whl (80 kB)\n",
      "Downloading certifi-2023.11.17-py3-none-any.whl (162 kB)\n",
      "   ---------------------------------------- 0.0/162.5 kB ? eta -:--:--\n",
      "   ---------------------------------------- 162.5/162.5 kB ? eta 0:00:00\n",
      "Downloading charset_normalizer-3.3.2-cp312-cp312-win_amd64.whl (100 kB)\n",
      "   ---------------------------------------- 0.0/100.4 kB ? eta -:--:--\n",
      "   ---------------------------------------- 100.4/100.4 kB ? eta 0:00:00\n",
      "Downloading click-8.1.7-py3-none-any.whl (97 kB)\n",
      "   ---------------------------------------- 0.0/97.9 kB ? eta -:--:--\n",
      "   ---------------------------------------- 97.9/97.9 kB ? eta 0:00:00\n",
      "Downloading dnspython-2.4.2-py3-none-any.whl (300 kB)\n",
      "   ---------------------------------------- 0.0/300.4 kB ? eta -:--:--\n",
      "   --------------------------------------- 300.4/300.4 kB 18.1 MB/s eta 0:00:00\n",
      "Downloading idna-3.6-py3-none-any.whl (61 kB)\n",
      "   ---------------------------------------- 0.0/61.6 kB ? eta -:--:--\n",
      "   ---------------------------------------- 61.6/61.6 kB ? eta 0:00:00\n",
      "Using cached starlette-0.27.0-py3-none-any.whl (66 kB)\n",
      "Downloading typing_extensions-4.9.0-py3-none-any.whl (32 kB)\n",
      "Downloading urllib3-2.1.0-py3-none-any.whl (104 kB)\n",
      "   ---------------------------------------- 0.0/104.6 kB ? eta -:--:--\n",
      "   ---------------------------------------- 104.6/104.6 kB ? eta 0:00:00\n",
      "Installing collected packages: kafka, urllib3, typing-extensions, sniffio, idna, h11, dnspython, click, charset-normalizer, certifi, uvicorn, requests, pymongo, pydantic, faker, anyio, starlette, fastapi\n",
      "Successfully installed anyio-3.7.1 certifi-2023.11.17 charset-normalizer-3.3.2 click-8.1.7 dnspython-2.4.2 faker-20.1.0 fastapi-0.104.1 h11-0.14.0 idna-3.6 kafka-1.3.5 pydantic-1.10.8 pymongo-4.6.1 requests-2.31.0 sniffio-1.3.0 starlette-0.27.0 typing-extensions-4.9.0 urllib3-2.1.0 uvicorn-0.24.0\n",
      "Note: you may need to restart the kernel to use updated packages.\n"
     ]
    },
    {
     "name": "stderr",
     "output_type": "stream",
     "text": [
      "\n",
      "[notice] A new release of pip is available: 23.2.1 -> 23.3.1\n",
      "[notice] To update, run: C:\\Users\\ximvi\\AppData\\Local\\Microsoft\\WindowsApps\\PythonSoftwareFoundation.Python.3.12_qbz5n2kfra8p0\\python.exe -m pip install --upgrade pip\n"
     ]
    }
   ],
   "source": [
    "%pip install -r requirements.txt"
   ]
  },
  {
   "cell_type": "code",
   "execution_count": null,
   "metadata": {},
   "outputs": [],
   "source": []
  }
 ],
 "metadata": {
  "kernelspec": {
   "display_name": "base",
   "language": "python",
   "name": "python3"
  },
  "language_info": {
   "codemirror_mode": {
    "name": "ipython",
    "version": 3
   },
   "file_extension": ".py",
   "mimetype": "text/x-python",
   "name": "python",
   "nbconvert_exporter": "python",
   "pygments_lexer": "ipython3",
   "version": "3.11.5"
  }
 },
 "nbformat": 4,
 "nbformat_minor": 2
}
