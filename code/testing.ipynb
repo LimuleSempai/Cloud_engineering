{
 "cells": [
  {
   "cell_type": "markdown",
   "metadata": {},
   "source": [
    "## Ticket Generator"
   ]
  },
  {
   "cell_type": "code",
   "execution_count": 1,
   "metadata": {},
   "outputs": [],
   "source": [
    "# ticket_generator_test.py\n",
    "from src.ticket_generator import generate_ticket\n",
    "\n",
    "def test_ticket_generator():\n",
    "    ticket = generate_ticket()\n",
    "    assert 'shop_name' in ticket\n",
    "    assert 'checkout_id' in ticket\n",
    "    assert 'cashier_id' in ticket\n",
    "    assert 'products' in ticket\n",
    "    assert isinstance(ticket['products'], list)\n",
    "    return ticket"
   ]
  },
  {
   "cell_type": "code",
   "execution_count": 2,
   "metadata": {},
   "outputs": [
    {
     "data": {
      "text/plain": [
       "{'shop_name': 'Chapman, Valdez and Fisher',\n",
       " 'checkout_id': 75,\n",
       " 'cashier_id': 10,\n",
       " 'products': [{'name': 'artist', 'price': 29, 'quantity': 1}],\n",
       " 'total_price': 73}"
      ]
     },
     "execution_count": 2,
     "metadata": {},
     "output_type": "execute_result"
    }
   ],
   "source": [
    "test_ticket_generator()"
   ]
  },
  {
   "cell_type": "markdown",
   "metadata": {},
   "source": [
    "## .."
   ]
  },
  {
   "cell_type": "code",
   "execution_count": null,
   "metadata": {},
   "outputs": [],
   "source": []
  }
 ],
 "metadata": {
  "kernelspec": {
   "display_name": "base",
   "language": "python",
   "name": "python3"
  },
  "language_info": {
   "codemirror_mode": {
    "name": "ipython",
    "version": 3
   },
   "file_extension": ".py",
   "mimetype": "text/x-python",
   "name": "python",
   "nbconvert_exporter": "python",
   "pygments_lexer": "ipython3",
   "version": "3.11.5"
  }
 },
 "nbformat": 4,
 "nbformat_minor": 2
}
